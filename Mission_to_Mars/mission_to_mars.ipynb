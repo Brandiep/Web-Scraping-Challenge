{
 "cells": [
  {
   "cell_type": "code",
   "execution_count": 1,
   "id": "f11096bb",
   "metadata": {},
   "outputs": [],
   "source": [
    "import pandas as pd\n",
    "from bs4 import BeautifulSoup\n",
    "import requests\n",
    "from splinter import Browser\n",
    "from webdriver_manager.chrome import ChromeDriverManager"
   ]
  },
  {
   "cell_type": "markdown",
   "id": "7e904426",
   "metadata": {},
   "source": [
    "# NASA Mars News\n",
    "- Scrape the Mars News Site and collect the latest News Title and Paragraph Text. Assign the text to variables that you can reference later. (11.2.3)"
   ]
  },
  {
   "cell_type": "code",
   "execution_count": 2,
   "id": "2d02edd8",
   "metadata": {},
   "outputs": [
    {
     "name": "stderr",
     "output_type": "stream",
     "text": [
      "\n",
      "\n",
      "====== WebDriver manager ======\n",
      "Current google-chrome version is 96.0.4664\n",
      "Get LATEST chromedriver version for 96.0.4664 google-chrome\n",
      "Driver [C:\\Users\\brand\\.wdm\\drivers\\chromedriver\\win32\\96.0.4664.45\\chromedriver.exe] found in cache\n"
     ]
    }
   ],
   "source": [
    "executable_path = {'executable_path': ChromeDriverManager().install()}\n",
    "browser = Browser('chrome', **executable_path, headless=False)"
   ]
  },
  {
   "cell_type": "code",
   "execution_count": 3,
   "id": "ff344751",
   "metadata": {},
   "outputs": [],
   "source": [
    "# URL of page to be scraped\n",
    "url_one = 'https://redplanetscience.com/'\n",
    "browser.visit(url_one)"
   ]
  },
  {
   "cell_type": "code",
   "execution_count": 4,
   "id": "c86368c9",
   "metadata": {},
   "outputs": [],
   "source": [
    "# Create BeautifulSoup object; parse with 'html.parser'\n",
    "html_one = browser.html\n",
    "article_soup = BeautifulSoup(html_one, 'html.parser')"
   ]
  },
  {
   "cell_type": "code",
   "execution_count": 5,
   "id": "40cec181",
   "metadata": {},
   "outputs": [
    {
     "name": "stdout",
     "output_type": "stream",
     "text": [
      "NASA's Ingenuity Mars Helicopter Recharges Its Batteries in Flight\n",
      "Headed to the Red Planet with the Perseverance rover, the pioneering helicopter is powered up for the first time in interplanetary space as part of a systems check.\n"
     ]
    }
   ],
   "source": [
    "# find latest news title and paragraph text\n",
    "news_title = article_soup.find('div', class_='content_title').text\n",
    "news_p = article_soup.find('div', class_='article_teaser_body').text\n",
    "print(news_title)\n",
    "print(news_p)"
   ]
  },
  {
   "cell_type": "code",
   "execution_count": 6,
   "id": "8fa270aa",
   "metadata": {},
   "outputs": [],
   "source": [
    "browser.quit()"
   ]
  },
  {
   "cell_type": "markdown",
   "id": "9c35481e",
   "metadata": {},
   "source": [
    "# JPL Mars Space Images - Featured Image\n",
    "- locate the image associated with the news title-use splinter (11.2.7-8)"
   ]
  },
  {
   "cell_type": "code",
   "execution_count": 7,
   "id": "f6472bcb",
   "metadata": {
    "scrolled": true
   },
   "outputs": [
    {
     "name": "stderr",
     "output_type": "stream",
     "text": [
      "\n",
      "\n",
      "====== WebDriver manager ======\n",
      "Current google-chrome version is 96.0.4664\n",
      "Get LATEST chromedriver version for 96.0.4664 google-chrome\n",
      "Driver [C:\\Users\\brand\\.wdm\\drivers\\chromedriver\\win32\\96.0.4664.45\\chromedriver.exe] found in cache\n"
     ]
    }
   ],
   "source": [
    "# Setup splinter\n",
    "executable_path = {'executable_path': ChromeDriverManager().install()}\n",
    "browser = Browser('chrome', **executable_path, headless=False)"
   ]
  },
  {
   "cell_type": "code",
   "execution_count": 8,
   "id": "17b729dc",
   "metadata": {},
   "outputs": [],
   "source": [
    "# URL of page to be scraped\n",
    "url_two = 'https://spaceimages-mars.com/'\n",
    "browser.visit(url_two)"
   ]
  },
  {
   "cell_type": "code",
   "execution_count": 9,
   "id": "e117afee",
   "metadata": {
    "scrolled": true
   },
   "outputs": [
    {
     "data": {
      "text/plain": [
       "'image/featured/mars1.jpg'"
      ]
     },
     "execution_count": 9,
     "metadata": {},
     "output_type": "execute_result"
    }
   ],
   "source": [
    "# HTML object\n",
    "html_two = browser.html\n",
    "# Parse HTML with Beautiful Soup\n",
    "img_soup = BeautifulSoup(html_two, 'html.parser')\n",
    "# Retrieve image\n",
    "feature_image = img_soup.find('img', class_='headerimage').get(\"src\")\n",
    "feature_image"
   ]
  },
  {
   "cell_type": "code",
   "execution_count": 10,
   "id": "838b69d0",
   "metadata": {},
   "outputs": [
    {
     "data": {
      "text/plain": [
       "'https://spaceimages-mars.com/image/featured/mars1.jpg'"
      ]
     },
     "execution_count": 10,
     "metadata": {},
     "output_type": "execute_result"
    }
   ],
   "source": [
    "feature_img_url= url_two + feature_image\n",
    "feature_img_url"
   ]
  },
  {
   "cell_type": "code",
   "execution_count": 11,
   "id": "38be1da7",
   "metadata": {},
   "outputs": [],
   "source": [
    "browser.quit()"
   ]
  },
  {
   "cell_type": "markdown",
   "id": "c79616ce",
   "metadata": {},
   "source": [
    "# Mars Facts\n",
    "- scrape the table containing facts about the plante including diameter, mass, etc. and convert to a HTML table string"
   ]
  },
  {
   "cell_type": "code",
   "execution_count": 12,
   "id": "e010a071",
   "metadata": {},
   "outputs": [
    {
     "name": "stderr",
     "output_type": "stream",
     "text": [
      "\n",
      "\n",
      "====== WebDriver manager ======\n",
      "Current google-chrome version is 96.0.4664\n",
      "Get LATEST chromedriver version for 96.0.4664 google-chrome\n",
      "Driver [C:\\Users\\brand\\.wdm\\drivers\\chromedriver\\win32\\96.0.4664.45\\chromedriver.exe] found in cache\n"
     ]
    }
   ],
   "source": [
    "# Setup splinter\n",
    "executable_path = {'executable_path': ChromeDriverManager().install()}\n",
    "browser = Browser('chrome', **executable_path, headless=False)"
   ]
  },
  {
   "cell_type": "code",
   "execution_count": 13,
   "id": "9e7c2dfd",
   "metadata": {},
   "outputs": [],
   "source": [
    "# URL of page to be scraped\n",
    "url_three = 'https://galaxyfacts-mars.com/'\n",
    "browser.visit(url_three)"
   ]
  },
  {
   "cell_type": "code",
   "execution_count": 14,
   "id": "d7ea12d5",
   "metadata": {},
   "outputs": [],
   "source": [
    "# HTML object\n",
    "html_three = browser.html\n",
    "# Parse HTML with Beautiful Soup\n",
    "facts_soup = BeautifulSoup(html_three, 'html.parser')\n"
   ]
  },
  {
   "cell_type": "code",
   "execution_count": 15,
   "id": "6ce65a73",
   "metadata": {},
   "outputs": [
    {
     "data": {
      "text/plain": [
       "<div class=\"sidebar\">\n",
       "<h5>MARS PLANET PROFILE</h5>\n",
       "<table class=\"table table-striped\">\n",
       "<tbody>\n",
       "<tr>\n",
       "<th scope=\"row\">Equatorial Diameter:</th>\n",
       "<td>6,792 km</td>\n",
       "</tr>\n",
       "<tr>\n",
       "<th scope=\"row\">Polar Diameter:</th>\n",
       "<td>6,752 km</td>\n",
       "</tr>\n",
       "<tr>\n",
       "<th scope=\"row\">Mass:</th>\n",
       "<td>\t6.39 × 10^23 kg (0.11 Earths)</td>\n",
       "</tr>\n",
       "<tr>\n",
       "<th scope=\"row\">Moons:</th>\n",
       "<td>\t2 ( <span class=\"red\">Phobos </span> &amp; <span class=\"red\"> Deimos </span>)</td>\n",
       "</tr>\n",
       "<tr>\n",
       "<th scope=\"row\">Orbit Distance:</th>\n",
       "<td>\t227,943,824 km (1.38 AU)</td>\n",
       "</tr>\n",
       "<tr>\n",
       "<th scope=\"row\">Orbit Period:</th>\n",
       "<td>\t687 days (1.9 years)</td>\n",
       "</tr>\n",
       "<tr>\n",
       "<th scope=\"row\">Surface Temperature:</th>\n",
       "<td>\t-87 to -5 °C</td>\n",
       "</tr>\n",
       "<tr>\n",
       "<th scope=\"row\">First Record:</th>\n",
       "<td>\t2nd millennium BC</td>\n",
       "</tr>\n",
       "<tr>\n",
       "<th scope=\"row\">Recorded By:</th>\n",
       "<td>\tEgyptian astronomers</td>\n",
       "</tr>\n",
       "</tbody>\n",
       "</table>\n",
       "<h5 class=\"mt-5\">PLANETS</h5>\n",
       "<div class=\"col-md-12 mt-3\">\n",
       "<div class=\"row\">\n",
       "<div class=\"col-md-3\">\n",
       "<img class=\"img-fluid mt-2\" src=\"https://space-facts.com/wp-content/uploads/mercury-50x50.png\"/>\n",
       "</div>\n",
       "<div class=\"col-md-9\">\n",
       "<p class=\"mt-2\"><span class=\"red\">Mercury </span> </p>\n",
       "</div>\n",
       "</div>\n",
       "<div class=\"row\">\n",
       "<div class=\"col-md-3\">\n",
       "<img class=\"img-fluid mt-4\" src=\"https://space-facts.com/wp-content/uploads/venus-50x50.png\"/>\n",
       "</div>\n",
       "<div class=\"col-md-9\">\n",
       "<p class=\"mt-4\"><span class=\"red\">Venus </span> </p>\n",
       "</div>\n",
       "</div>\n",
       "<div class=\"row\">\n",
       "<div class=\"col-md-3\">\n",
       "<img class=\"img-fluid mt-4\" src=\"https://space-facts.com/wp-content/uploads/earth-50x50.png\"/>\n",
       "</div>\n",
       "<div class=\"col-md-9\">\n",
       "<p class=\"mt-4\"><span class=\"red\">Earth</span> </p>\n",
       "</div>\n",
       "</div>\n",
       "<div class=\"row\">\n",
       "<div class=\"col-md-3\">\n",
       "<img class=\"img-fluid mt-4\" src=\"https://space-facts.com/wp-content/uploads/mars-50x50.jpg\"/>\n",
       "</div>\n",
       "<div class=\"col-md-9\">\n",
       "<p class=\"mt-4\"><span class=\"red\">Mars </span> </p>\n",
       "</div>\n",
       "</div>\n",
       "<div class=\"row\">\n",
       "<div class=\"col-md-3\">\n",
       "<img class=\"img-fluid mt-4\" src=\"https://space-facts.com/wp-content/uploads/jupiter-50x50.png\"/>\n",
       "</div>\n",
       "<div class=\"col-md-9\">\n",
       "<p class=\"mt-4\"><span class=\"red\">Jupiter</span> </p>\n",
       "</div>\n",
       "</div>\n",
       "<div class=\"row\">\n",
       "<div class=\"col-md-3\">\n",
       "<img class=\"img-fluid mt-4\" src=\"https://space-facts.com/wp-content/uploads/saturn-50x50.png\"/>\n",
       "</div>\n",
       "<div class=\"col-md-9\">\n",
       "<p class=\"mt-4\"><span class=\"red\">Saturn</span> </p>\n",
       "</div>\n",
       "</div>\n",
       "<div class=\"row\">\n",
       "<div class=\"col-md-3\">\n",
       "<img class=\"img-fluid mt-4\" src=\"https://space-facts.com/wp-content/uploads/uranus-50x50.jpg\"/>\n",
       "</div>\n",
       "<div class=\"col-md-9\">\n",
       "<p class=\"mt-4\"><span class=\"red\">Saturn</span> </p>\n",
       "</div>\n",
       "</div>\n",
       "<div class=\"row\">\n",
       "<div class=\"col-md-3\">\n",
       "<img class=\"img-fluid mt-4\" src=\"https://space-facts.com/wp-content/uploads/neptune-50x50.png\"/>\n",
       "</div>\n",
       "<div class=\"col-md-9\">\n",
       "<p class=\"mt-4\"><span class=\"red\">Neptune</span> </p>\n",
       "</div>\n",
       "</div>\n",
       "</div>\n",
       "</div>"
      ]
     },
     "execution_count": 15,
     "metadata": {},
     "output_type": "execute_result"
    }
   ],
   "source": [
    "# Retrieve facts\n",
    "mars_facts = facts_soup.find('div', class_='sidebar')\n",
    "mars_facts"
   ]
  },
  {
   "cell_type": "code",
   "execution_count": 16,
   "id": "cce549af",
   "metadata": {},
   "outputs": [
    {
     "data": {
      "text/html": [
       "<div>\n",
       "<style scoped>\n",
       "    .dataframe tbody tr th:only-of-type {\n",
       "        vertical-align: middle;\n",
       "    }\n",
       "\n",
       "    .dataframe tbody tr th {\n",
       "        vertical-align: top;\n",
       "    }\n",
       "\n",
       "    .dataframe thead th {\n",
       "        text-align: right;\n",
       "    }\n",
       "</style>\n",
       "<table border=\"1\" class=\"dataframe\">\n",
       "  <thead>\n",
       "    <tr style=\"text-align: right;\">\n",
       "      <th></th>\n",
       "      <th>Mars</th>\n",
       "      <th>Earth</th>\n",
       "    </tr>\n",
       "    <tr>\n",
       "      <th>Attribute</th>\n",
       "      <th></th>\n",
       "      <th></th>\n",
       "    </tr>\n",
       "  </thead>\n",
       "  <tbody>\n",
       "    <tr>\n",
       "      <th>Mars - Earth Comparison</th>\n",
       "      <td>Mars</td>\n",
       "      <td>Earth</td>\n",
       "    </tr>\n",
       "    <tr>\n",
       "      <th>Diameter:</th>\n",
       "      <td>6,779 km</td>\n",
       "      <td>12,742 km</td>\n",
       "    </tr>\n",
       "    <tr>\n",
       "      <th>Mass:</th>\n",
       "      <td>6.39 × 10^23 kg</td>\n",
       "      <td>5.97 × 10^24 kg</td>\n",
       "    </tr>\n",
       "    <tr>\n",
       "      <th>Moons:</th>\n",
       "      <td>2</td>\n",
       "      <td>1</td>\n",
       "    </tr>\n",
       "    <tr>\n",
       "      <th>Distance from Sun:</th>\n",
       "      <td>227,943,824 km</td>\n",
       "      <td>149,598,262 km</td>\n",
       "    </tr>\n",
       "    <tr>\n",
       "      <th>Length of Year:</th>\n",
       "      <td>687 Earth days</td>\n",
       "      <td>365.24 days</td>\n",
       "    </tr>\n",
       "    <tr>\n",
       "      <th>Temperature:</th>\n",
       "      <td>-87 to -5 °C</td>\n",
       "      <td>-88 to 58°C</td>\n",
       "    </tr>\n",
       "  </tbody>\n",
       "</table>\n",
       "</div>"
      ],
      "text/plain": [
       "                                    Mars            Earth\n",
       "Attribute                                                \n",
       "Mars - Earth Comparison             Mars            Earth\n",
       "Diameter:                       6,779 km        12,742 km\n",
       "Mass:                    6.39 × 10^23 kg  5.97 × 10^24 kg\n",
       "Moons:                                 2                1\n",
       "Distance from Sun:        227,943,824 km   149,598,262 km\n",
       "Length of Year:           687 Earth days      365.24 days\n",
       "Temperature:                -87 to -5 °C      -88 to 58°C"
      ]
     },
     "execution_count": 16,
     "metadata": {},
     "output_type": "execute_result"
    }
   ],
   "source": [
    "mars_facts_df = ((pd.read_html(url_three))[0]).rename(columns={0: \"Attribute\", 1: \"Mars\", 2:\"Earth\"}).set_index(['Attribute'])\n",
    "mars_facts_df"
   ]
  },
  {
   "cell_type": "code",
   "execution_count": 17,
   "id": "472f32f2",
   "metadata": {},
   "outputs": [
    {
     "data": {
      "text/plain": [
       "'<table border=\"1\" class=\"dataframe\">  <thead>    <tr style=\"text-align: right;\">      <th></th>      <th>Mars</th>      <th>Earth</th>    </tr>    <tr>      <th>Attribute</th>      <th></th>      <th></th>    </tr>  </thead>  <tbody>    <tr>      <th>Mars - Earth Comparison</th>      <td>Mars</td>      <td>Earth</td>    </tr>    <tr>      <th>Diameter:</th>      <td>6,779 km</td>      <td>12,742 km</td>    </tr>    <tr>      <th>Mass:</th>      <td>6.39 × 10^23 kg</td>      <td>5.97 × 10^24 kg</td>    </tr>    <tr>      <th>Moons:</th>      <td>2</td>      <td>1</td>    </tr>    <tr>      <th>Distance from Sun:</th>      <td>227,943,824 km</td>      <td>149,598,262 km</td>    </tr>    <tr>      <th>Length of Year:</th>      <td>687 Earth days</td>      <td>365.24 days</td>    </tr>    <tr>      <th>Temperature:</th>      <td>-87 to -5 °C</td>      <td>-88 to 58°C</td>    </tr>  </tbody></table>'"
      ]
     },
     "execution_count": 17,
     "metadata": {},
     "output_type": "execute_result"
    }
   ],
   "source": [
    "fact_html_table = (mars_facts_df.to_html()).replace('\\n', '')\n",
    "fact_html_table"
   ]
  },
  {
   "cell_type": "code",
   "execution_count": 18,
   "id": "f6281d71",
   "metadata": {},
   "outputs": [],
   "source": [
    "browser.quit()"
   ]
  },
  {
   "cell_type": "markdown",
   "id": "6e78d3f3",
   "metadata": {},
   "source": [
    "# Mars Hemispheres\n",
    "- obtain high resolution images for each of Mar's hemispheres.\n",
    "- You will need to click each of the links to the hemispheres in order to find the image url to the full resolution image\n",
    "- Save both the image url string for the full resolution hemisphere image, and the Hemisphere title containing the hemisphere name. Use a Python dictionary to store the data using the keys img_url and title."
   ]
  },
  {
   "cell_type": "markdown",
   "id": "fa690ef3",
   "metadata": {},
   "source": [
    "### Hemi 1- cerberus"
   ]
  },
  {
   "cell_type": "code",
   "execution_count": 19,
   "id": "e75c4980",
   "metadata": {},
   "outputs": [
    {
     "name": "stderr",
     "output_type": "stream",
     "text": [
      "\n",
      "\n",
      "====== WebDriver manager ======\n",
      "Current google-chrome version is 96.0.4664\n",
      "Get LATEST chromedriver version for 96.0.4664 google-chrome\n",
      "Driver [C:\\Users\\brand\\.wdm\\drivers\\chromedriver\\win32\\96.0.4664.45\\chromedriver.exe] found in cache\n"
     ]
    }
   ],
   "source": [
    "# Setup splinter\n",
    "executable_path = {'executable_path': ChromeDriverManager().install()}\n",
    "browser = Browser('chrome', **executable_path, headless=False)\n",
    "\n",
    "# URL of page to be scraped\n",
    "hemi1_url = 'https://marshemispheres.com/cerberus.html'\n",
    "browser.visit(hemi1_url)\n",
    "\n",
    "# HTML object\n",
    "hemi1_html = browser.html\n",
    "# Parse HTML with Beautiful Soup\n",
    "hemi1_soup = BeautifulSoup(hemi1_html, 'html.parser')\n",
    "\n"
   ]
  },
  {
   "cell_type": "code",
   "execution_count": 20,
   "id": "3d1c53e8",
   "metadata": {},
   "outputs": [
    {
     "name": "stdout",
     "output_type": "stream",
     "text": [
      "Cerberus Hemisphere Enhanced\n",
      "https://marshemispheres.com/images/f5e372a36edfa389625da6d0cc25d905_cerberus_enhanced.tif_full.jpg\n"
     ]
    }
   ],
   "source": [
    "# Retrieve img and title\n",
    "cerberus_title = hemi1_soup.find('h2', class_='title').text\n",
    "cerberus_img = hemi1_soup.find('img', class_='wide-image').get('src')\n",
    "cerberus_url = \"https://marshemispheres.com/\" + cerberus_img\n",
    "\n",
    "print(cerberus_title)\n",
    "print(cerberus_url)"
   ]
  },
  {
   "cell_type": "code",
   "execution_count": 21,
   "id": "6d18c308",
   "metadata": {},
   "outputs": [],
   "source": [
    "browser.quit()"
   ]
  },
  {
   "cell_type": "markdown",
   "id": "717f62e5",
   "metadata": {},
   "source": [
    "### hemi 2 - schiaparelli"
   ]
  },
  {
   "cell_type": "code",
   "execution_count": 22,
   "id": "8e5e6f6c",
   "metadata": {},
   "outputs": [
    {
     "name": "stderr",
     "output_type": "stream",
     "text": [
      "\n",
      "\n",
      "====== WebDriver manager ======\n",
      "Current google-chrome version is 96.0.4664\n",
      "Get LATEST chromedriver version for 96.0.4664 google-chrome\n",
      "Driver [C:\\Users\\brand\\.wdm\\drivers\\chromedriver\\win32\\96.0.4664.45\\chromedriver.exe] found in cache\n"
     ]
    }
   ],
   "source": [
    "# Setup splinter\n",
    "executable_path = {'executable_path': ChromeDriverManager().install()}\n",
    "browser = Browser('chrome', **executable_path, headless=False)\n",
    "\n",
    "# URL of page to be scraped\n",
    "hemi2_url = 'https://marshemispheres.com/schiaparelli.html'\n",
    "browser.visit(hemi2_url)\n",
    "\n",
    "# HTML object\n",
    "hemi2_html = browser.html\n",
    "# Parse HTML with Beautiful Soup\n",
    "hemi2_soup = BeautifulSoup(hemi2_html, 'html.parser')"
   ]
  },
  {
   "cell_type": "code",
   "execution_count": 23,
   "id": "901506fb",
   "metadata": {},
   "outputs": [
    {
     "name": "stdout",
     "output_type": "stream",
     "text": [
      "Schiaparelli Hemisphere Enhanced\n",
      "https://marshemispheres.com/images/3778f7b43bbbc89d6e3cfabb3613ba93_schiaparelli_enhanced.tif_full.jpg\n"
     ]
    }
   ],
   "source": [
    "# Retrieve img and title\n",
    "schiaparelli_title = hemi2_soup.find('h2', class_='title').text\n",
    "schiaparelli_img = hemi2_soup.find('img', class_='wide-image').get('src')\n",
    "schiaparelli_url = \"https://marshemispheres.com/\" + schiaparelli_img\n",
    "\n",
    "print(schiaparelli_title)\n",
    "print(schiaparelli_url)"
   ]
  },
  {
   "cell_type": "code",
   "execution_count": 24,
   "id": "dd7bb81a",
   "metadata": {},
   "outputs": [],
   "source": [
    "browser.quit()"
   ]
  },
  {
   "cell_type": "markdown",
   "id": "7eced2a4",
   "metadata": {},
   "source": [
    "### hemi 3 - syrtis major"
   ]
  },
  {
   "cell_type": "code",
   "execution_count": 25,
   "id": "22bebb01",
   "metadata": {
    "scrolled": true
   },
   "outputs": [
    {
     "name": "stderr",
     "output_type": "stream",
     "text": [
      "\n",
      "\n",
      "====== WebDriver manager ======\n",
      "Current google-chrome version is 96.0.4664\n",
      "Get LATEST chromedriver version for 96.0.4664 google-chrome\n",
      "Driver [C:\\Users\\brand\\.wdm\\drivers\\chromedriver\\win32\\96.0.4664.45\\chromedriver.exe] found in cache\n"
     ]
    }
   ],
   "source": [
    "# Setup splinter\n",
    "executable_path = {'executable_path': ChromeDriverManager().install()}\n",
    "browser = Browser('chrome', **executable_path, headless=False)\n",
    "\n",
    "# URL of page to be scraped\n",
    "hemi3_url = 'https://marshemispheres.com/syrtis.html'\n",
    "browser.visit(hemi3_url)\n",
    "\n",
    "# HTML object\n",
    "hemi3_html = browser.html\n",
    "# Parse HTML with Beautiful Soup\n",
    "hemi3_soup = BeautifulSoup(hemi3_html, 'html.parser')"
   ]
  },
  {
   "cell_type": "code",
   "execution_count": 26,
   "id": "5fa2b86f",
   "metadata": {},
   "outputs": [
    {
     "name": "stdout",
     "output_type": "stream",
     "text": [
      "Syrtis Major Hemisphere Enhanced\n",
      "https://marshemispheres.com/images/555e6403a6ddd7ba16ddb0e471cadcf7_syrtis_major_enhanced.tif_full.jpg\n"
     ]
    }
   ],
   "source": [
    "# Retrieve img and title\n",
    "syrtis_major_title = hemi3_soup.find('h2', class_='title').text\n",
    "syrtis_major_img = hemi3_soup.find('img', class_='wide-image').get('src')\n",
    "syrtis_major_url = \"https://marshemispheres.com/\" + syrtis_major_img\n",
    "\n",
    "print(syrtis_major_title)\n",
    "print(syrtis_major_url)"
   ]
  },
  {
   "cell_type": "code",
   "execution_count": 27,
   "id": "22cc77e7",
   "metadata": {},
   "outputs": [],
   "source": [
    "browser.quit()"
   ]
  },
  {
   "cell_type": "markdown",
   "id": "b9cb3d79",
   "metadata": {},
   "source": [
    "### hemi 4 - valles marineris"
   ]
  },
  {
   "cell_type": "code",
   "execution_count": 28,
   "id": "61e6c211",
   "metadata": {
    "scrolled": true
   },
   "outputs": [
    {
     "name": "stderr",
     "output_type": "stream",
     "text": [
      "\n",
      "\n",
      "====== WebDriver manager ======\n",
      "Current google-chrome version is 96.0.4664\n",
      "Get LATEST chromedriver version for 96.0.4664 google-chrome\n",
      "Driver [C:\\Users\\brand\\.wdm\\drivers\\chromedriver\\win32\\96.0.4664.45\\chromedriver.exe] found in cache\n"
     ]
    }
   ],
   "source": [
    "# Setup splinter\n",
    "executable_path = {'executable_path': ChromeDriverManager().install()}\n",
    "browser = Browser('chrome', **executable_path, headless=False)\n",
    "\n",
    "# URL of page to be scraped\n",
    "hemi4_url = 'https://marshemispheres.com/valles.html'\n",
    "browser.visit(hemi4_url)\n",
    "\n",
    "# HTML object\n",
    "hemi4_html = browser.html\n",
    "# Parse HTML with Beautiful Soup\n",
    "hemi4_soup = BeautifulSoup(hemi4_html, 'html.parser')"
   ]
  },
  {
   "cell_type": "code",
   "execution_count": 29,
   "id": "c910d804",
   "metadata": {},
   "outputs": [
    {
     "name": "stdout",
     "output_type": "stream",
     "text": [
      "Valles Marineris Hemisphere Enhanced\n",
      "https://marshemispheres.com/images/b3c7c6c9138f57b4756be9b9c43e3a48_valles_marineris_enhanced.tif_full.jpg\n"
     ]
    }
   ],
   "source": [
    "# Retrieve img and title\n",
    "valles_marineris_title = hemi4_soup.find('h2', class_='title').text\n",
    "valles_marineris_img = hemi4_soup.find('img', class_='wide-image').get('src')\n",
    "valles_marineris_url = \"https://marshemispheres.com/\" + valles_marineris_img\n",
    "\n",
    "print(valles_marineris_title)\n",
    "print(valles_marineris_url)"
   ]
  },
  {
   "cell_type": "code",
   "execution_count": 30,
   "id": "504ecd66",
   "metadata": {},
   "outputs": [
    {
     "data": {
      "text/plain": [
       "[{'Title': 'Cerberus Hemisphere Enhanced',\n",
       "  'img_url': 'https://marshemispheres.com/images/f5e372a36edfa389625da6d0cc25d905_cerberus_enhanced.tif_full.jpg'},\n",
       " {'Title': 'Schiaparelli Hemisphere Enhanced',\n",
       "  'img_url': 'https://marshemispheres.com/images/3778f7b43bbbc89d6e3cfabb3613ba93_schiaparelli_enhanced.tif_full.jpg'},\n",
       " {'Title': 'Syrtis Major Hemisphere Enhanced',\n",
       "  'img_url': 'https://marshemispheres.com/images/555e6403a6ddd7ba16ddb0e471cadcf7_syrtis_major_enhanced.tif_full.jpg'},\n",
       " {'Title': 'Valles Marineris Hemisphere Enhanced',\n",
       "  'img_url': 'https://marshemispheres.com/images/b3c7c6c9138f57b4756be9b9c43e3a48_valles_marineris_enhanced.tif_full.jpg'}]"
      ]
     },
     "execution_count": 30,
     "metadata": {},
     "output_type": "execute_result"
    }
   ],
   "source": [
    "#create dictionary to store all hemisphere details\n",
    "hemisphere_img_urls = [\n",
    "    {\"Title\": cerberus_title, \"img_url\": cerberus_url}, \n",
    "    {\"Title\": schiaparelli_title, \"img_url\": schiaparelli_url}, \n",
    "    {\"Title\": syrtis_major_title, \"img_url\": syrtis_major_url}, \n",
    "    {\"Title\": valles_marineris_title, \"img_url\": valles_marineris_url}\n",
    "]\n",
    "hemisphere_img_urls\n"
   ]
  },
  {
   "cell_type": "code",
   "execution_count": 31,
   "id": "8a2c2c21",
   "metadata": {},
   "outputs": [],
   "source": [
    "browser.quit()"
   ]
  }
 ],
 "metadata": {
  "kernelspec": {
   "display_name": "Python [conda env:PythonData] *",
   "language": "python",
   "name": "conda-env-PythonData-py"
  },
  "language_info": {
   "codemirror_mode": {
    "name": "ipython",
    "version": 3
   },
   "file_extension": ".py",
   "mimetype": "text/x-python",
   "name": "python",
   "nbconvert_exporter": "python",
   "pygments_lexer": "ipython3",
   "version": "3.8.11"
  }
 },
 "nbformat": 4,
 "nbformat_minor": 5
}
